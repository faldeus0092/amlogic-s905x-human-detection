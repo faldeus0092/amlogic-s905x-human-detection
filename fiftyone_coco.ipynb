{
 "cells": [
  {
   "cell_type": "code",
   "execution_count": 1,
   "metadata": {},
   "outputs": [],
   "source": [
    "import fiftyone as fo"
   ]
  },
  {
   "cell_type": "code",
   "execution_count": 22,
   "metadata": {},
   "outputs": [],
   "source": [
    "# Customize where zoo datasets are downloaded\n",
    "fo.config.dataset_zoo_dir = \"D:\\Kuliah\\Bangkit ML\\TA\\\\technical\\\\fiftyone\""
   ]
  },
  {
   "cell_type": "code",
   "execution_count": 23,
   "metadata": {},
   "outputs": [],
   "source": [
    "import fiftyone.zoo as foz"
   ]
  },
  {
   "cell_type": "code",
   "execution_count": 24,
   "metadata": {},
   "outputs": [
    {
     "name": "stdout",
     "output_type": "stream",
     "text": [
      "Downloading split 'train' to 'D:\\Kuliah\\Bangkit ML\\TA\\technical\\fiftyone\\coco-2017\\train' if necessary\n",
      "Found annotations at 'D:\\Kuliah\\Bangkit ML\\TA\\technical\\fiftyone\\coco-2017\\raw\\instances_train2017.json'\n",
      "Sufficient images already downloaded\n",
      "Existing download of split 'train' is sufficient\n",
      "Downloading split 'validation' to 'D:\\Kuliah\\Bangkit ML\\TA\\technical\\fiftyone\\coco-2017\\validation' if necessary\n",
      "Found annotations at 'D:\\Kuliah\\Bangkit ML\\TA\\technical\\fiftyone\\coco-2017\\raw\\instances_val2017.json'\n",
      "Sufficient images already downloaded\n",
      "Existing download of split 'validation' is sufficient\n",
      "Downloading split 'test' to 'D:\\Kuliah\\Bangkit ML\\TA\\technical\\fiftyone\\coco-2017\\test' if necessary\n",
      "Test split is unlabeled; ignoring classes requirement\n",
      "Found test info at 'D:\\Kuliah\\Bangkit ML\\TA\\technical\\fiftyone\\coco-2017\\raw\\image_info_test2017.json'\n",
      "Images already downloaded\n",
      "Existing download of split 'test' is sufficient\n",
      "Loading existing dataset 'coco-2017-train-validation-test'. To reload from disk, either delete the existing dataset or provide a custom `dataset_name` to use\n"
     ]
    }
   ],
   "source": [
    "dataset = foz.load_zoo_dataset(\n",
    "    \"coco-2017\",\n",
    "    splits=[\"train\", \"validation\", \"test\"],\n",
    "    label_types=[\"detections\"],\n",
    "    classes=[\"person\"],\n",
    ")"
   ]
  },
  {
   "cell_type": "code",
   "execution_count": 25,
   "metadata": {},
   "outputs": [],
   "source": [
    "dataset.persistent = True"
   ]
  },
  {
   "cell_type": "code",
   "execution_count": 26,
   "metadata": {},
   "outputs": [
    {
     "name": "stdout",
     "output_type": "stream",
     "text": [
      "Name:        coco-2017-train-validation-test\n",
      "Media type:  image\n",
      "Num samples: 107478\n",
      "Persistent:  True\n",
      "Tags:        []\n",
      "Sample fields:\n",
      "    id:           fiftyone.core.fields.ObjectIdField\n",
      "    filepath:     fiftyone.core.fields.StringField\n",
      "    tags:         fiftyone.core.fields.ListField(fiftyone.core.fields.StringField)\n",
      "    metadata:     fiftyone.core.fields.EmbeddedDocumentField(fiftyone.core.metadata.ImageMetadata)\n",
      "    ground_truth: fiftyone.core.fields.EmbeddedDocumentField(fiftyone.core.labels.Detections)\n"
     ]
    }
   ],
   "source": [
    "print(dataset)"
   ]
  },
  {
   "cell_type": "code",
   "execution_count": 27,
   "metadata": {},
   "outputs": [
    {
     "name": "stdout",
     "output_type": "stream",
     "text": [
      "{\n",
      "    'samples_count': 107478,\n",
      "    'samples_bytes': 155745081,\n",
      "    'samples_size': '148.5MB',\n",
      "    'media_bytes': 0,\n",
      "    'media_size': '0.0B',\n",
      "    'total_bytes': 155745081,\n",
      "    'total_size': '148.5MB',\n",
      "}\n"
     ]
    }
   ],
   "source": [
    "fo.pprint(dataset.stats(include_media=True))"
   ]
  },
  {
   "cell_type": "markdown",
   "metadata": {},
   "source": [
    "# Validation set"
   ]
  },
  {
   "cell_type": "code",
   "execution_count": 28,
   "metadata": {},
   "outputs": [
    {
     "name": "stdout",
     "output_type": "stream",
     "text": [
      "Downloading split 'validation' to 'D:\\Kuliah\\Bangkit ML\\TA\\technical\\fiftyone\\coco-2017\\validation' if necessary\n",
      "Found annotations at 'D:\\Kuliah\\Bangkit ML\\TA\\technical\\fiftyone\\coco-2017\\raw\\instances_val2017.json'\n",
      "Sufficient images already downloaded\n",
      "Existing download of split 'validation' is sufficient\n",
      "Loading existing dataset 'coco-2017-validation'. To reload from disk, either delete the existing dataset or provide a custom `dataset_name` to use\n"
     ]
    }
   ],
   "source": [
    "val = foz.load_zoo_dataset(\n",
    "    \"coco-2017\",\n",
    "    splits=[\"validation\"],\n",
    "    label_types=[\"detections\"],\n",
    "    classes=[\"person\"],\n",
    ")"
   ]
  },
  {
   "cell_type": "code",
   "execution_count": 29,
   "metadata": {},
   "outputs": [
    {
     "name": "stdout",
     "output_type": "stream",
     "text": [
      "{\n",
      "    'samples_count': 2693,\n",
      "    'samples_bytes': 5921246,\n",
      "    'samples_size': '5.6MB',\n",
      "    'media_bytes': 0,\n",
      "    'media_size': '0.0B',\n",
      "    'total_bytes': 5921246,\n",
      "    'total_size': '5.6MB',\n",
      "}\n"
     ]
    }
   ],
   "source": [
    "fo.pprint(val.stats(include_media=True))"
   ]
  },
  {
   "cell_type": "code",
   "execution_count": 9,
   "metadata": {},
   "outputs": [
    {
     "name": "stdout",
     "output_type": "stream",
     "text": [
      "Name:        coco-2017-validation\n",
      "Media type:  image\n",
      "Num samples: 2693\n",
      "Persistent:  False\n",
      "Tags:        []\n",
      "Sample fields:\n",
      "    id:           fiftyone.core.fields.ObjectIdField\n",
      "    filepath:     fiftyone.core.fields.StringField\n",
      "    tags:         fiftyone.core.fields.ListField(fiftyone.core.fields.StringField)\n",
      "    metadata:     fiftyone.core.fields.EmbeddedDocumentField(fiftyone.core.metadata.ImageMetadata)\n",
      "    ground_truth: fiftyone.core.fields.EmbeddedDocumentField(fiftyone.core.labels.Detections)\n"
     ]
    }
   ],
   "source": [
    "print(val)"
   ]
  },
  {
   "cell_type": "markdown",
   "metadata": {},
   "source": [
    "# Train set"
   ]
  },
  {
   "cell_type": "code",
   "execution_count": 10,
   "metadata": {},
   "outputs": [
    {
     "name": "stdout",
     "output_type": "stream",
     "text": [
      "Downloading split 'train' to 'D:\\Kuliah\\Bangkit ML\\TA\\technical\\fiftyone\\coco-2017\\train' if necessary\n",
      "Found annotations at 'D:\\Kuliah\\Bangkit ML\\TA\\technical\\fiftyone\\coco-2017\\raw\\instances_train2017.json'\n",
      "Sufficient images already downloaded\n",
      "Existing download of split 'train' is sufficient\n",
      "Loading existing dataset 'coco-2017-train'. To reload from disk, either delete the existing dataset or provide a custom `dataset_name` to use\n"
     ]
    }
   ],
   "source": [
    "train = foz.load_zoo_dataset(\n",
    "    \"coco-2017\",\n",
    "    splits=[\"train\"],\n",
    "    label_types=[\"detections\"],\n",
    "    classes=[\"person\"],\n",
    ")"
   ]
  },
  {
   "cell_type": "code",
   "execution_count": 11,
   "metadata": {},
   "outputs": [
    {
     "name": "stdout",
     "output_type": "stream",
     "text": [
      "Name:        coco-2017-train\n",
      "Media type:  image\n",
      "Num samples: 64115\n",
      "Persistent:  False\n",
      "Tags:        []\n",
      "Sample fields:\n",
      "    id:           fiftyone.core.fields.ObjectIdField\n",
      "    filepath:     fiftyone.core.fields.StringField\n",
      "    tags:         fiftyone.core.fields.ListField(fiftyone.core.fields.StringField)\n",
      "    metadata:     fiftyone.core.fields.EmbeddedDocumentField(fiftyone.core.metadata.ImageMetadata)\n",
      "    ground_truth: fiftyone.core.fields.EmbeddedDocumentField(fiftyone.core.labels.Detections)\n"
     ]
    }
   ],
   "source": [
    "print(train)"
   ]
  },
  {
   "cell_type": "code",
   "execution_count": 13,
   "metadata": {},
   "outputs": [
    {
     "name": "stdout",
     "output_type": "stream",
     "text": [
      "{\n",
      "    'samples_count': 64115,\n",
      "    'samples_bytes': 139086955,\n",
      "    'samples_size': '132.6MB',\n",
      "    'media_bytes': 0,\n",
      "    'media_size': '0.0B',\n",
      "    'total_bytes': 139086955,\n",
      "    'total_size': '132.6MB',\n",
      "}\n"
     ]
    }
   ],
   "source": [
    "fo.pprint(train.stats(include_media=True))"
   ]
  },
  {
   "cell_type": "code",
   "execution_count": 10,
   "metadata": {},
   "outputs": [],
   "source": [
    "export_dir = \"coco-val-export-v3\"\n",
    "train_export_dir = \"coco-train-export-v3\"\n",
    "label_field = \"ground_truth\"  # for example"
   ]
  },
  {
   "cell_type": "code",
   "execution_count": 12,
   "metadata": {},
   "outputs": [
    {
     "name": "stdout",
     "output_type": "stream",
     "text": [
      " 100% |███████████████| 2693/2693 [26.3s elapsed, 0s remaining, 101.7 samples/s]      \n"
     ]
    }
   ],
   "source": [
    "val.export(\n",
    "    export_dir=export_dir,\n",
    "    dataset_type=fo.types.TFObjectDetectionDataset,\n",
    "    label_field=label_field,\n",
    ")"
   ]
  },
  {
   "cell_type": "code",
   "execution_count": 14,
   "metadata": {},
   "outputs": [
    {
     "name": "stdout",
     "output_type": "stream",
     "text": [
      " 100% |█████████████| 64115/64115 [18.7m elapsed, 0s remaining, 56.4 samples/s]      \n"
     ]
    }
   ],
   "source": [
    "train.export(\n",
    "    export_dir=train_export_dir,\n",
    "    dataset_type=fo.types.TFObjectDetectionDataset,\n",
    "    label_field=label_field,\n",
    ")"
   ]
  },
  {
   "cell_type": "code",
   "execution_count": 5,
   "metadata": {},
   "outputs": [],
   "source": [
    "yolo_export_dir = \"yolo-coco-val-export\"\n",
    "yolo_train_export_dir = \"yolo-coco-train-export\"\n",
    "label_field = \"ground_truth\"  # for example"
   ]
  },
  {
   "cell_type": "code",
   "execution_count": 8,
   "metadata": {},
   "outputs": [
    {
     "name": "stdout",
     "output_type": "stream",
     "text": [
      "Directory 'yolo-coco-val-export' already exists; export will be merged with existing files\n",
      " 100% |███████████████| 2693/2693 [32.7s elapsed, 0s remaining, 82.2 samples/s]      \n"
     ]
    }
   ],
   "source": [
    "val.export(\n",
    "    export_dir=yolo_export_dir,\n",
    "    dataset_type=fo.types.YOLOv4Dataset,\n",
    "    label_field=label_field,\n",
    ")"
   ]
  },
  {
   "cell_type": "code",
   "execution_count": 10,
   "metadata": {},
   "outputs": [
    {
     "name": "stdout",
     "output_type": "stream",
     "text": [
      "Directory 'yolo-coco-train-export' already exists; export will be merged with existing files\n",
      " 100% |█████████████| 64115/64115 [13.4m elapsed, 0s remaining, 68.7 samples/s]      \n"
     ]
    }
   ],
   "source": [
    "train.export(\n",
    "    export_dir=yolo_train_export_dir,\n",
    "    dataset_type=fo.types.YOLOv4Dataset,\n",
    "    label_field=label_field,\n",
    ")"
   ]
  }
 ],
 "metadata": {
  "kernelspec": {
   "display_name": "Python 3 (ipykernel)",
   "language": "python",
   "name": "python3"
  },
  "language_info": {
   "codemirror_mode": {
    "name": "ipython",
    "version": 3
   },
   "file_extension": ".py",
   "mimetype": "text/x-python",
   "name": "python",
   "nbconvert_exporter": "python",
   "pygments_lexer": "ipython3",
   "version": "3.10.4"
  },
  "vscode": {
   "interpreter": {
    "hash": "c65cece6d4760064c051330ceb66c805595e7c64a834ed08920740e01713dee1"
   }
  }
 },
 "nbformat": 4,
 "nbformat_minor": 4
}
